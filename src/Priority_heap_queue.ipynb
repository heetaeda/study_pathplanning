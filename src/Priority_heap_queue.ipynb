{
 "cells": [
  {
   "cell_type": "markdown",
   "id": "2e32806d",
   "metadata": {},
   "source": [
    "## 우선순위 큐 (Priority Queue) 란??\n",
    "\n",
    "- 우선순위가 가장 높은 데이터를 가장 먼저 삭제하는 자료구조\n",
    "\n",
    "- 데이터를 우선순위에 따라 처리하고 싶을 때 주로 사용함.\n",
    "\n",
    "    - 예를 들어, 물건 데이터를 자료구조에 넣었다가 가치가 높은 물건부터 꺼내는 경우 등\n",
    "\n",
    "- 스택, 큐, 우선순위 큐 비교\n",
    "\n",
    "    ![alt text](<Screenshot from 2025-04-20 14-19-23.png>)\n",
    "    - 스택 (stack) : 가장 나중에 삽입된 데이터가 가장 먼저 나감\n",
    "    - 큐 (Queue) : 가장 먼저 삽입된 데이터가 가장 먼저 나감 (공평한 자료구조)\n",
    "    - 우선순위 큐 (Priority Queue) : 가장 우선순위가 높은 데이터가 먼저 나감\n",
    "\n",
    "- 우선순위 큐 구현 방법은 크게 2가지\n",
    "    1. 단순히 리스트를 이용해 구현 \n",
    "        - 일일이 값을 비교 후 가장 큰 값부터 추출\n",
    "    2. 힙 (heap) 자료구조 이용해서 구현하기\n",
    "\n",
    "- 힙 (heap) 의 특징\n",
    "    - 힙은 완전 이진 트리 자료구조의 일종\n",
    "        - 완전 이진 트리 자료구조\n",
    "\n",
    "            ![alt text](<Screenshot from 2025-04-20 14-33-30.png>)\n",
    "            - 루트 노드 부터 시작하여 왼쪽 자식노드, 오른쪽 자식 노드 순서대로 데이터가 차례대로 삽입되는 트리를 의미\n",
    "    - 힙에서는 항상 루트 노드 (root node) 를 제거 한다.\n",
    "        - 데이터 삽입 시 트리에 넣고, 꺼낼 때는 루트 노드에 위치한 데이터가 나오도록 한다.\n",
    "    - 최소힙 (min heap)\n",
    "\n",
    "        ![alt text](<Screenshot from 2025-04-20 14-30-34.png>)\n",
    "        - 루트 노드가 가장 작은 값을 가진다.\n",
    "        - 값이 작은 데이터가 우선적으로 제거된다.\n",
    "        - 최소힙에 무작위로 데이터를 넣어도, 오름차순 (작은 값부터) 으로 출력된다.\n",
    "\n",
    "    - 최대힙 (max heap)\n",
    "\n",
    "\n",
    "        - 루트 노드가 가장 큰 값을 가진다.\n",
    "        - 값이 큰 데이터가 우선적으로 제거된다.\n",
    "\n",
    "\n",
    "    - 어떤 데이터를 힙에 넣었을 때, 그 자료구조가 힙의 성질을 가지게 만들려면??\n",
    "        - Min_Heapify() 함수 : (상향식) 부모 노드로 거슬로 올라가며, 부모보다 자식이 값이 더 작은 경우에 위치를 교체함.\n",
    "\n",
    "        ![alt text](<Screenshot from 2025-04-20 14-38-18.png>)\n",
    "        - 자식 노드(새로운 데이터)가 부모 노드보다 작은 경우 해당 함수를 실행하면 최소 힙 성질을 만족하는 트리가 구성되게 된다.\n",
    "\n",
    "        - 힙에 새로운 원소가 삽입될 때, Min_Heapify 함수를 사용하면 시간 복잡도를 줄일 수 있다.\n",
    "\n",
    "           \n",
    "            ![alt text](<Screenshot from 2025-04-20 14-43-47.png>)\n",
    "            \n",
    "            - 2라는 데이터가 들어올 때, 부모보다 작으므로 자리를 한번 바꾸고, 그다음 3인 부모보다도 작기 때문에 한번 더 바꿔서 두 번만에 루트 노드까지 도달 가능\n",
    "\n",
    "        - 힙에 새로운 원소가 제거될 때\n",
    "\n",
    "            ![alt text](<Screenshot from 2025-04-20 14-46-40.png>)\n",
    "\n",
    "            - 맨 처음에 위치한 루트 노드 값을 꺼낸 후, 마지막 노드의 값이 루트 노드자리로 이동하고,\n",
    "\n",
    "            ![alt text](<Screenshot from 2025-04-20 14-50-29.png>)\n",
    "\n",
    "            - 그 다음 하향식으로 더 작은 자식노드와 위치를 바꿔서 힙의 성질을 유지한다.\n",
    "            \n",
    "            - 아마 이 다음은 3이 빠지고 마지막 노드인 5가 루트 노드로 올라간 후, 루트 노드의 왼쪽 자식 노드인 4와 자리를 바꿔서 힙의 성질을 유지할 것이다. \n",
    "\n",
    "            ![alt text](<Screenshot from 2025-04-20 14-55-24.png>)  <<< 아마 이렇게??\n",
    "\n",
    "\n",
    "#### heapq 에 튜플이나 리스트 형태의 값이 들어올 경우 튜플이나 리스트의 첫 번째 값을 기준으로 우선순위 정렬함!!!!"
   ]
  },
  {
   "cell_type": "markdown",
   "id": "713033fa",
   "metadata": {},
   "source": [
    "## 우선순위 큐 \n",
    "\n",
    "- heapq.heappush(h, value) : h 라는 리스트에 value 값을 최소힙 형태로 넣는다.\n",
    "\n",
    "- heapq.heappop(h) : 최소힙 형태로 정렬되어있는 h 에서 오름차순 (작은 값 부터) 차레대로 뽑아낸다.\n",
    "\n",
    "- heapq.heapify(h) : 리스트 h 를 최소힙 형태로 정렬되도록 바꾼다. 이때, 해당 function 은 반환 값이 없으며, 기존 h 값이 바로 바뀐다."
   ]
  },
  {
   "cell_type": "code",
   "execution_count": 7,
   "id": "3699047c",
   "metadata": {},
   "outputs": [
    {
     "name": "stdout",
     "output_type": "stream",
     "text": [
      "9\n",
      "8\n",
      "6\n",
      "6\n",
      "3\n"
     ]
    }
   ],
   "source": [
    "import sys\n",
    "import heapq\n",
    "\n",
    "# input = sys.stdin.readline\n",
    "\n",
    "def heapsort(iterable):\n",
    "    h = []\n",
    "    result = []\n",
    "\n",
    "    # 모든 원소를 차례대로 힙에 삽입\n",
    "    for value in iterable:\n",
    "        heapq.heappush(h, -value)\n",
    "\n",
    "    # 힙에 삽입된 원소들을 차례대로 꺼내기\n",
    "    for _ in range(len(h)):\n",
    "        result.append(-heapq.heappop(h))\n",
    "    return result\n",
    "\n",
    "# n = int(input())\n",
    "n = int(input(\"정렬할 숫자 갯수 입력하세요 : \"))\n",
    "arr = []\n",
    "\n",
    "for _ in range(n):\n",
    "    arr.append(int(input('숫자를 정수를 입력하세요')))\n",
    "\n",
    "res = heapsort(arr)\n",
    "\n",
    "for i in range(n):\n",
    "    print(res[i])"
   ]
  },
  {
   "cell_type": "code",
   "execution_count": 43,
   "id": "c6e9b7b2",
   "metadata": {},
   "outputs": [
    {
     "data": {
      "text/plain": [
       "(3, (0, 0))"
      ]
     },
     "execution_count": 43,
     "metadata": {},
     "output_type": "execute_result"
    }
   ],
   "source": [
    "h = []\n",
    "cnt = 0\n",
    "for i in [3, 6, 9, 7, 8]:\n",
    "    heapq.heappush(h, (i, (cnt, cnt)))\n",
    "\n",
    "# if (1, 1) in h:\n",
    "#     print('yes')\n",
    "# else:\n",
    "#     print('no')\n",
    "\n",
    "# print(h)\n",
    "\n",
    "a = heapq.heappop(h)\n",
    "\n",
    "a"
   ]
  },
  {
   "cell_type": "code",
   "execution_count": 13,
   "id": "60d156a5",
   "metadata": {},
   "outputs": [
    {
     "data": {
      "text/plain": [
       "[3, 6, 9, 7, 8]"
      ]
     },
     "execution_count": 13,
     "metadata": {},
     "output_type": "execute_result"
    }
   ],
   "source": [
    "h = [3, 6, 9, 7, 8]\n",
    "\n",
    "heapq.heapify(h)\n",
    "\n",
    "h"
   ]
  },
  {
   "cell_type": "code",
   "execution_count": 19,
   "id": "8b0aff48",
   "metadata": {},
   "outputs": [
    {
     "data": {
      "text/plain": [
       "[3, 6, 6, 8, 9]"
      ]
     },
     "execution_count": 19,
     "metadata": {},
     "output_type": "execute_result"
    }
   ],
   "source": [
    "import heapq\n",
    "\n",
    "h = [3, 6, 9, 8, 6]\n",
    "result = []\n",
    "for _ in range(len(h)):\n",
    "    result.append(heapq.heappop(h))\n",
    "\n",
    "result"
   ]
  },
  {
   "cell_type": "code",
   "execution_count": 22,
   "id": "eb88d84c",
   "metadata": {},
   "outputs": [],
   "source": [
    "h = []\n",
    "\n",
    "while h:\n",
    "    print('yes')"
   ]
  },
  {
   "cell_type": "markdown",
   "id": "322ba9ec",
   "metadata": {},
   "source": [
    "## A* 알고리즘 with heap (우선순위 큐)\n",
    "\n",
    "#### F = G + H\n",
    "\n",
    "- G(n) = 출발 노드에서 현재 노드까지의 실제 이동 거리\n",
    "\n",
    "- H(n) = 현재 노드에서 최종 목적지 노드 까지의 예상 이동 거리 (주로 유클리드 거리 함수)\n",
    "\n",
    "- open list = 최단 거리를 계산하기 위한 노드 값들이 갱신됨\n",
    "\n",
    "- close list = 처리가 완료된 노드들이 담기는 공간\n"
   ]
  },
  {
   "cell_type": "code",
   "execution_count": 32,
   "id": "2e6d5384",
   "metadata": {},
   "outputs": [
    {
     "data": {
      "text/plain": [
       "<matplotlib.image.AxesImage at 0x7f05d57588b0>"
      ]
     },
     "execution_count": 32,
     "metadata": {},
     "output_type": "execute_result"
    },
    {
     "data": {
      "image/png": "[encoded data removed]",
      "text/plain": [
       "<Figure size 640x480 with 1 Axes>"
      ]
     },
     "metadata": {},
     "output_type": "display_data"
    }
   ],
   "source": [
    "import numpy as np\n",
    "import matplotlib.pyplot as plt\n",
    "import cv2\n",
    "\n",
    "# pgm 지도를 이진화 형태로 변환\n",
    "def pixel_based_map(img):\n",
    "    img_height, img_width = img.shape  # 이미지 크기 가져오기\n",
    "\n",
    "    # 결과 저장할 2D 리스트 생성 (기본값: 1 = 벽)\n",
    "    map_cost = np.ones((img_height, img_width), dtype=int)\n",
    "\n",
    "    # 모든 픽셀을 하나씩 순회하면서 계산\n",
    "    for i in range(img_height):\n",
    "        for j in range(img_width):\n",
    "            if img[i, j] > 210:  # 밝은 픽셀(도로)\n",
    "                map_cost[i, j] = 0  # 도로(0)\n",
    "            else:  # 어두운 픽셀(벽)\n",
    "                map_cost[i, j] = 1  # 벽(1)\n",
    "\n",
    "    return map_cost\n",
    "\n",
    "map = cv2.imread('../data/asap_map_resized.pgm', cv2.COLOR_BGR2GRAY)\n",
    "\n",
    "binary_map = pixel_based_map(map)\n",
    "\n",
    "plt.imshow(binary_map, cmap='gray')\n"
   ]
  },
  {
   "cell_type": "code",
   "execution_count": 16,
   "id": "0334fc7c",
   "metadata": {},
   "outputs": [
    {
     "data": {
      "text/plain": [
       "(306, 215)"
      ]
     },
     "execution_count": 16,
     "metadata": {},
     "output_type": "execute_result"
    }
   ],
   "source": [
    "map.shape"
   ]
  },
  {
   "cell_type": "markdown",
   "id": "979d8961",
   "metadata": {},
   "source": [
    "### 격자맵으로 a* 알고리즘 연습해보기\n",
    "\n",
    "- 0 : 길  \n",
    "\n",
    "- 1 : 장애물\n",
    "\n",
    "- 휴리스틱 함수 : 유클리드 거리 함수"
   ]
  },
  {
   "cell_type": "markdown",
   "id": "d88083f7",
   "metadata": {},
   "source": [
    "### 상, 하, 좌, 우 로만 움직일 때"
   ]
  },
  {
   "cell_type": "code",
   "execution_count": 30,
   "id": "8ea7d418",
   "metadata": {},
   "outputs": [
    {
     "name": "stdout",
     "output_type": "stream",
     "text": [
      "cnt =  40\n"
     ]
    },
    {
     "data": {
      "image/png": "[encoded data removed]",
      "text/plain": [
       "<Figure size 640x480 with 1 Axes>"
      ]
     },
     "metadata": {},
     "output_type": "display_data"
    }
   ],
   "source": [
    "import numpy as np\n",
    "import math\n",
    "import matplotlib.pyplot as plt\n",
    "import heapq\n",
    "\n",
    "grid_map = np.array([\n",
    "    [0, 0, 0, 0, 0, 0, 0, 0, 0, 0, 0, 1, 1, 1, 0],\n",
    "    [1, 1, 1, 0, 1, 0, 1, 1, 1, 1, 0, 1, 0, 0, 0],\n",
    "    [0, 0, 0, 0, 1, 0, 0, 0, 0, 1, 0, 1, 0, 1, 1],\n",
    "    [0, 1, 1, 0, 1, 1, 1, 1, 0, 1, 0, 0, 0, 1, 0],\n",
    "    [0, 1, 0, 0, 0, 0, 0, 1, 0, 1, 1, 1, 0, 1, 0],\n",
    "    [0, 1, 0, 1, 1, 1, 0, 1, 0, 0, 0, 0, 0, 1, 0],\n",
    "    [0, 1, 0, 0, 0, 0, 0, 1, 0, 1, 1, 1, 0, 1, 0],\n",
    "    [0, 1, 1, 1, 1, 0, 1, 1, 0, 0, 0, 0, 0, 0, 0],\n",
    "    [0, 0, 0, 0, 0, 0, 0, 0, 0, 1, 1, 1, 1, 1, 0],\n",
    "    [1, 1, 1, 1, 1, 1, 1, 1, 0, 1, 0, 0, 0, 1, 0],\n",
    "    [0, 0, 0, 0, 0, 0, 0, 1, 0, 1, 0, 1, 0, 1, 0],\n",
    "    [0, 1, 1, 1, 1, 1, 0, 0, 0, 1, 0, 1, 0, 1, 0],\n",
    "    [0, 1, 0, 0, 0, 1, 0, 1, 0, 0, 0, 1, 0, 1, 0],\n",
    "    [0, 1, 0, 1, 0, 1, 0, 1, 1, 1, 0, 1, 0, 0, 0],\n",
    "    [0, 0, 0, 1, 0, 0, 0, 0, 0, 0, 0, 1, 1, 1, 0]\n",
    "])\n",
    "\n",
    "\n",
    "def heuristic(current, goal):\n",
    "    return math.sqrt((current[1] - goal[1])**2 + (current[0] - goal[0])**2)\n",
    "\n",
    "def a_star(map, start, goal):\n",
    "    neighbors = [(0, 1), (1, 0), (-1, 0), (0, -1)]  # 오른쪽, 아래, 위, 왼쪽\n",
    "\n",
    "    row = map.shape[0]  # 행\n",
    "    col = map.shape[1]  # 열\n",
    "    \n",
    "    close_list = []\n",
    "    came_from = {}  # 최종 경로를 추적하기 위한 딕셔너리\n",
    "    gscore = {start : 0}  # 출발 위치에서 현재 위치까지의 실제 거리\n",
    "    fscore = {start : heuristic(start, goal)}  # gscore + 현재 위치에서 목표위치 까지의 직선 추정거리 (heuristic score)\n",
    "    # fscore 의 값은 항상 각 노드 (key) 에 대한 최소 값 (value) 을 하나만 가지도록 업데이트 됨.\n",
    "\n",
    "    open_heap = []  # 최단 거리를 갱신하기 위한 노드 값들이 계속 추가됨.\n",
    "    heapq.heappush(open_heap, (fscore[start], start))  # 출발 위치의 fscore 값과 출발 위치를 open_heap 에 넣는다.\n",
    "     \n",
    "    cnt = 0\n",
    "\n",
    "    while open_heap:  # open_heap 에 값이 없을 때까지 계속 반복\n",
    "        # current = heapq.heappop(open_heap)[1]  # open list 에 있는 값들 중, fscore 가 가장 작은 튜플의 좌표 값을 current 좌표로\n",
    "\n",
    "        current_f, current = heapq.heappop(open_heap)\n",
    "\n",
    "        # open_heap 에 중복되는 노드가 있을 경우, fscore 값을 비교해서 fscore 값이 더 작은 노드 값만 사용\n",
    "        if current_f > fscore[current]:\n",
    "            continue\n",
    "\n",
    "        if current == goal:\n",
    "            path = []\n",
    "            path.append(start)  # 우선 출발 위치 추가\n",
    "            # came_from 의 key 값에는 절대로 start 좌표가 들어가지 않는다. 그러므로, start 좌표를 처리할 상황이 되면 while 문을 빠져나온다.\n",
    "            while current in came_from.keys():\n",
    "                path.append(current)  # 경로에 현재 노드를 추가하고\n",
    "                current = came_from[current]  # 현재 노드를 추가된 노드의 부모 노드로 바꾼다.\n",
    "            return path[::-1], cnt  # goal 위치부터 경로가 기록되므로 역순으로 반환해야 함.\n",
    "\n",
    "        close_list.append(current)  # close_list 에 fscore 가 가장 작은 값을 추가한다.\n",
    "\n",
    "        cnt += 1\n",
    "\n",
    "        for i, j in neighbors:\n",
    "            neighbor = (current[0] + i, current[1] + j)  # 인접한 노드들\n",
    "            if (0 <= neighbor[0] < row) and (0 <= neighbor[1] < col) and map[neighbor[0]][neighbor[1]] != 1:\n",
    "                # 이웃 노드가 맵 범위 안에 있고, 벽이 아닌 상태에서 해당 이웃 노드의 gscore 는 current 의 gscore 에 1 을 더한거다.\n",
    "                neighbor_gscore = gscore[current] + 1  # 한칸 이동했으므로 1 을 더해준다.\n",
    "                \n",
    "                if neighbor in gscore.keys():\n",
    "                    if gscore[neighbor] > neighbor_gscore:\n",
    "                        gscore[neighbor] = neighbor_gscore\n",
    "                        fscore[neighbor] = neighbor_gscore + heuristic(neighbor, goal)\n",
    "                        heapq.heappush(open_heap, (fscore[neighbor], neighbor))\n",
    "                        came_from[neighbor] = current  # neighbor 노드의 부모 노드 = current\n",
    "                    else:\n",
    "                        continue\n",
    "                        \n",
    "                else:            \n",
    "                    gscore[neighbor] = neighbor_gscore  # 이웃 노드의 gscore\n",
    "                    fscore[neighbor] = neighbor_gscore + heuristic(neighbor, goal)\n",
    "                    heapq.heappush(open_heap, (fscore[neighbor], neighbor))\n",
    "                    came_from[neighbor] = current  # neighbor 노드의 부모 노드 = current\n",
    "            \n",
    "            # print('came_from : ', came_from)\n",
    "            # print('gscore : ', gscore)\n",
    "            # print('fscore : ', fscore)\n",
    "\n",
    "\n",
    "start = (2, 7)\n",
    "goal = (14, 14)\n",
    "\n",
    "final_path, cnt = a_star(grid_map, start, goal)\n",
    "\n",
    "for y, x in final_path:\n",
    "    grid_map[y][x] = 3\n",
    "\n",
    "\n",
    "print('cnt = ', cnt)\n",
    "plt.imshow(grid_map, cmap='gray')\n",
    "plt.show()"
   ]
  },
  {
   "cell_type": "markdown",
   "id": "c5f3e963",
   "metadata": {},
   "source": [
    "### 대각선 방향 포함"
   ]
  },
  {
   "cell_type": "code",
   "execution_count": null,
   "id": "10d9adf2",
   "metadata": {},
   "outputs": [
    {
     "name": "stdout",
     "output_type": "stream",
     "text": [
      "cnt =  14990\n"
     ]
    },
    {
     "data": {
      "image/png": "[encoded data removed]",
      "text/plain": [
       "<Figure size 640x480 with 1 Axes>"
      ]
     },
     "metadata": {},
     "output_type": "display_data"
    }
   ],
   "source": [
    "import numpy as np\n",
    "import math\n",
    "import matplotlib.pyplot as plt\n",
    "import heapq\n",
    "\n",
    "grid_map = np.array([\n",
    "    [0, 0, 0, 0, 0, 0, 0, 0, 0, 0, 0, 1, 1, 1, 0],\n",
    "    [1, 1, 1, 0, 1, 0, 1, 1, 1, 1, 0, 1, 0, 0, 0],\n",
    "    [0, 0, 0, 0, 1, 0, 0, 0, 0, 1, 0, 1, 0, 1, 1],\n",
    "    [0, 1, 1, 0, 1, 1, 1, 1, 0, 1, 0, 0, 0, 1, 0],\n",
    "    [0, 1, 0, 0, 0, 0, 0, 1, 0, 1, 1, 1, 0, 1, 0],\n",
    "    [0, 1, 0, 1, 1, 1, 0, 1, 0, 0, 0, 0, 0, 1, 0],\n",
    "    [0, 1, 0, 0, 0, 0, 0, 1, 0, 1, 1, 1, 0, 1, 0],\n",
    "    [0, 1, 1, 1, 1, 0, 1, 1, 0, 0, 0, 0, 0, 0, 0],\n",
    "    [0, 0, 0, 0, 0, 0, 0, 0, 0, 1, 1, 1, 1, 1, 0],\n",
    "    [1, 1, 1, 1, 1, 1, 1, 1, 0, 1, 0, 0, 0, 1, 0],\n",
    "    [0, 0, 0, 0, 0, 0, 0, 1, 0, 1, 0, 1, 0, 1, 0],\n",
    "    [0, 1, 1, 1, 1, 1, 0, 0, 0, 1, 0, 1, 0, 1, 0],\n",
    "    [0, 1, 0, 0, 0, 1, 0, 1, 0, 0, 0, 1, 0, 1, 0],\n",
    "    [0, 1, 0, 1, 0, 1, 0, 1, 1, 1, 0, 1, 0, 0, 0],\n",
    "    [0, 0, 0, 1, 0, 0, 0, 0, 0, 0, 0, 1, 1, 1, 0]\n",
    "])\n",
    "\n",
    "\n",
    "def heuristic(current, goal):\n",
    "    return math.sqrt((current[1] - goal[1])**2 + (current[0] - goal[0])**2)\n",
    "\n",
    "def a_star(map, start, goal):\n",
    "    # neighbors = [(0, 1), (1, 0), (-1, 0), (0, -1)]  # 오른쪽, 아래, 위, 왼쪽\n",
    "\n",
    "    neighbors = [(0, 1), (1, 0), (-1, 0), (0, -1), (1, 1), (1, -1), (-1, 1), (-1, -1)]  # 상하좌우 및 대각선 까지 포함\n",
    "\n",
    "    row = map.shape[0]  # 행\n",
    "    col = map.shape[1]  # 열\n",
    "    \n",
    "    close_list = []\n",
    "    came_from = {}  # 최종 경로를 추적하기 위한 딕셔너리\n",
    "    gscore = {start : 0}  # 출발 위치에서 현재 위치까지의 실제 거리\n",
    "    fscore = {start : heuristic(start, goal)}  # gscore + 현재 위치에서 목표위치 까지의 직선 추정거리 (heuristic score)\n",
    "    # fscore 의 값은 항상 각 노드 (key) 에 대한 최소 값 (value) 을 하나만 가지도록 업데이트 됨.\n",
    "\n",
    "    open_heap = []  # 최단 거리를 갱신하기 위한 노드 값들이 계속 추가됨.\n",
    "    heapq.heappush(open_heap, (fscore[start], start))  # 출발 위치의 fscore 값과 출발 위치를 open_heap 에 넣는다.\n",
    "     \n",
    "    cnt = 0\n",
    "\n",
    "    while open_heap:  # open_heap 에 값이 없을 때까지 계속 반복\n",
    "        # current = heapq.heappop(open_heap)[1]  # open list 에 있는 값들 중, fscore 가 가장 작은 튜플의 좌표 값을 current 좌표로\n",
    "\n",
    "        current_f, current = heapq.heappop(open_heap)\n",
    "\n",
    "        # open_heap 에 중복되는 노드가 있을 경우, fscore 값을 비교해서 fscore 값이 더 작은 노드 값만 사용\n",
    "        if current_f > fscore[current]:\n",
    "            continue\n",
    "\n",
    "        if current == goal:\n",
    "            path = []\n",
    "            path.append(start)  # 우선 출발 위치 추가\n",
    "            # came_from 의 key 값에는 절대로 start 좌표가 들어가지 않는다. 그러므로, start 좌표를 처리할 상황이 되면 while 문을 빠져나온다.\n",
    "            while current in came_from.keys():\n",
    "                path.append(current)  # 경로에 현재 노드를 추가하고\n",
    "                current = came_from[current]  # 현재 노드를 추가된 노드의 부모 노드로 바꾼다.\n",
    "            return path[::-1], cnt  # goal 위치부터 경로가 기록되므로 역순으로 반환해야 함.\n",
    "\n",
    "        close_list.append(current)  # close_list 에 fscore 가 가장 작은 값을 추가한다.\n",
    "\n",
    "        cnt += 1\n",
    "\n",
    "        for i, j in neighbors:\n",
    "            neighbor = (current[0] + i, current[1] + j)  # 인접한 노드들\n",
    "            if (0 <= neighbor[0] < row) and (0 <= neighbor[1] < col) and map[neighbor[0]][neighbor[1]] != 1:\n",
    "                # 이웃 노드가 맵 범위 안에 있고, 벽이 아닌 상태에서 해당 이웃 노드의 gscore 는 current 의 gscore 에 1 을 더한거다.\n",
    "                if abs(i) == 1 and abs(j) == 1:  # 대각선 방향 인접한 노드들이면\n",
    "                    neighbor_gscore = gscore[current] + 1.4  # 대각선 한칸 이동했으므로 1.4 를 더해준다.\n",
    "                else:\n",
    "                    neighbor_gscore = gscore[current] + 1  # 한칸 이동했으므로 1 을 더해준다.\n",
    "\n",
    "                if neighbor in gscore.keys():\n",
    "                    if gscore[neighbor] > neighbor_gscore:\n",
    "                        gscore[neighbor] = neighbor_gscore\n",
    "                        fscore[neighbor] = neighbor_gscore + heuristic(neighbor, goal)\n",
    "                        heapq.heappush(open_heap, (fscore[neighbor], neighbor))\n",
    "                        came_from[neighbor] = current  # neighbor 노드의 부모 노드 = current\n",
    "                    else:\n",
    "                        continue\n",
    "                        \n",
    "                else:            \n",
    "                    gscore[neighbor] = neighbor_gscore  # 이웃 노드의 gscore\n",
    "                    fscore[neighbor] = neighbor_gscore + heuristic(neighbor, goal)\n",
    "                    heapq.heappush(open_heap, (fscore[neighbor], neighbor))\n",
    "                    came_from[neighbor] = current  # neighbor 노드의 부모 노드 = current\n",
    "            \n",
    "            # print('came_from : ', came_from)\n",
    "            # print('gscore : ', gscore)\n",
    "            # print('fscore : ', fscore)\n",
    "\n",
    "\n",
    "start = (220, 85)\n",
    "goal = (95, 125)\n",
    "\n",
    "final_path, cnt = a_star(binary_map, start, goal)\n",
    "\n",
    "for y, x in final_path:\n",
    "    binary_map[y][x] = 3\n",
    "\n",
    "\n",
    "print('cnt = ', cnt)\n",
    "plt.imshow(binary_map, cmap='gray')\n",
    "plt.show()"
   ]
  }
 ],
 "metadata": {
  "kernelspec": {
   "display_name": "Python 3",
   "language": "python",
   "name": "python3"
  },
  "language_info": {
   "codemirror_mode": {
    "name": "ipython",
    "version": 3
   },
   "file_extension": ".py",
   "mimetype": "text/x-python",
   "name": "python",
   "nbconvert_exporter": "python",
   "pygments_lexer": "ipython3",
   "version": "3.8.10"
  }
 },
 "nbformat": 4,
 "nbformat_minor": 5
}
