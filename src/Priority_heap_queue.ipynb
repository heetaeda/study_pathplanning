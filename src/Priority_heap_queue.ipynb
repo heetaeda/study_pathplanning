{
 "cells": [
  {
   "cell_type": "markdown",
   "id": "2e32806d",
   "metadata": {},
   "source": [
    "## 우선순위 큐 (Priority Queue) 란??\n",
    "\n",
    "- 우선순위가 가장 높은 데이터를 가장 먼저 삭제하는 자료구조\n",
    "\n",
    "- 데이터를 우선순위에 따라 처리하고 싶을 때 주로 사용함.\n",
    "\n",
    "    - 예를 들어, 물건 데이터를 자료구조에 넣었다가 가치가 높은 물건부터 꺼내는 경우 등\n",
    "\n",
    "- 스택, 큐, 우선순위 큐 비교\n",
    "\n",
    "    ![alt text](<Screenshot from 2025-04-20 14-19-23.png>)\n",
    "    - 스택 (stack) : 가장 나중에 삽입된 데이터가 가장 먼저 나감\n",
    "    - 큐 (Queue) : 가장 먼저 삽입된 데이터가 가장 먼저 나감 (공평한 자료구조)\n",
    "    - 우선순위 큐 (Priority Queue) : 가장 우선순위가 높은 데이터가 먼저 나감\n",
    "\n",
    "- 우선순위 큐 구현 방법은 크게 2가지\n",
    "    1. 단순히 리스트를 이용해 구현 \n",
    "        - 일일이 값을 비교 후 가장 큰 값부터 추출\n",
    "    2. 힙 (heap) 자료구조 이용해서 구현하기\n",
    "\n",
    "- 힙 (heap) 의 특징\n",
    "    - 힙은 완전 이진 트리 자료구조의 일종\n",
    "        - 완전 이진 트리 자료구조\n",
    "\n",
    "            ![alt text](<Screenshot from 2025-04-20 14-33-30.png>)\n",
    "            - 루트 노드 부터 시작하여 왼쪽 자식노드, 오른쪽 자식 노드 순서대로 데이터가 차례대로 삽입되는 트리를 의미\n",
    "    - 힙에서는 항상 루트 노드 (root node) 를 제거 한다.\n",
    "        - 데이터 삽입 시 트리에 넣고, 꺼낼 때는 루트 노드에 위치한 데이터가 나오도록 한다.\n",
    "    - 최소힙 (min heap)\n",
    "\n",
    "        ![alt text](<Screenshot from 2025-04-20 14-30-34.png>)\n",
    "        - 루트 노드가 가장 작은 값을 가진다.\n",
    "        - 값이 작은 데이터가 우선적으로 제거된다.\n",
    "        - 최소힙에 무작위로 데이터를 넣어도, 오름차순 (작은 값부터) 으로 출력된다.\n",
    "\n",
    "    - 최대힙 (max heap)\n",
    "\n",
    "\n",
    "        - 루트 노드가 가장 큰 값을 가진다.\n",
    "        - 값이 큰 데이터가 우선적으로 제거된다.\n",
    "\n",
    "\n",
    "    - 어떤 데이터를 힙에 넣었을 때, 그 자료구조가 힙의 성질을 가지게 만들려면??\n",
    "        - Min_Heapify() 함수 : (상향식) 부모 노드로 거슬로 올라가며, 부모보다 자시느이 값이 더 작은 경우에 위치를 교체함.\n",
    "\n",
    "        ![alt text](<Screenshot from 2025-04-20 14-38-18.png>)\n",
    "        - 자식 노드(새로운 데이터)가 부모 노드보다 작은 경우 해당 함수를 실행하면 최소 힙 성질을 만족하는 트리가 구성되게 된다.\n",
    "\n",
    "        - 힙에 새로운 원소가 삽입될 때, Min_Heapify 함수를 사용하면 시간 복잡도를 줄일 수 있다.\n",
    "\n",
    "           \n",
    "            ![alt text](<Screenshot from 2025-04-20 14-43-47.png>)\n",
    "            \n",
    "            - 2라는 데이터가 들어올 때, 부모보다 작으므로 자리를 한번 바꾸고, 그다음 3인 부모보다도 작기 때문에 한번 더 바꿔서 두 번만에 루트 노드까지 도달 가능\n",
    "\n",
    "        - 힙에 새로운 원소가 제거될 때\n",
    "\n",
    "            ![alt text](<Screenshot from 2025-04-20 14-46-40.png>)\n",
    "\n",
    "            - 맨 처음에 위치한 루트 노드 값을 꺼낸 후, 마지막 노드의 값이 루트 노드자리로 이동하고,\n",
    "\n",
    "            ![alt text](<Screenshot from 2025-04-20 14-50-29.png>)\n",
    "\n",
    "            - 그 다음 하향식으로 더 작은 자식노드와 위치를 바꿔서 힙의 성질을 유지한다.\n",
    "            \n",
    "            - 아마 이 다음은 3이 빠지고 마지막 노드인 5가 루트 노드로 올라간 후, 루트 노드의 왼쪽 자식 노드인 4와 자리를 바꿔서 힙의 성질을 유지할 것이다. \n",
    "\n",
    "            ![alt text](<Screenshot from 2025-04-20 14-55-24.png>)  <<< 아마 이렇게??"
   ]
  },
  {
   "cell_type": "markdown",
   "id": "713033fa",
   "metadata": {},
   "source": [
    "## 우선순위 큐 예제"
   ]
  },
  {
   "cell_type": "code",
   "execution_count": 7,
   "id": "3699047c",
   "metadata": {},
   "outputs": [
    {
     "name": "stdout",
     "output_type": "stream",
     "text": [
      "9\n",
      "8\n",
      "6\n",
      "6\n",
      "3\n"
     ]
    }
   ],
   "source": [
    "import sys\n",
    "import heapq\n",
    "\n",
    "# input = sys.stdin.readline\n",
    "\n",
    "def heapsort(iterable):\n",
    "    h = []\n",
    "    result = []\n",
    "\n",
    "    # 모든 원소를 차례대로 힙에 삽입\n",
    "    for value in iterable:\n",
    "        heapq.heappush(h, -value)\n",
    "\n",
    "    # 힙에 삽입된 원소들을 차례대로 꺼내기\n",
    "    for _ in range(len(h)):\n",
    "        result.append(-heapq.heappop(h))\n",
    "    return result\n",
    "\n",
    "# n = int(input())\n",
    "n = int(input(\"정렬할 숫자 갯수 입력하세요 : \"))\n",
    "arr = []\n",
    "\n",
    "for _ in range(n):\n",
    "    arr.append(int(input('숫자를 정수를 입력하세요')))\n",
    "\n",
    "res = heapsort(arr)\n",
    "\n",
    "for i in range(n):\n",
    "    print(res[i])"
   ]
  },
  {
   "cell_type": "code",
   "execution_count": 9,
   "id": "c6e9b7b2",
   "metadata": {},
   "outputs": [
    {
     "name": "stdout",
     "output_type": "stream",
     "text": [
      "[3, 6, 9, 7, 8]\n"
     ]
    }
   ],
   "source": [
    "h = []\n",
    "\n",
    "for i in [3, 6, 9, 7, 8]:\n",
    "    heapq.heappush(h, i)\n",
    "\n",
    "h\n",
    "\n",
    "print(h)"
   ]
  },
  {
   "cell_type": "code",
   "execution_count": 13,
   "id": "60d156a5",
   "metadata": {},
   "outputs": [
    {
     "data": {
      "text/plain": [
       "[3, 6, 9, 7, 8]"
      ]
     },
     "execution_count": 13,
     "metadata": {},
     "output_type": "execute_result"
    }
   ],
   "source": [
    "h = [3, 6, 9, 7, 8]\n",
    "\n",
    "heapq.heapify(h)\n",
    "\n",
    "h"
   ]
  },
  {
   "cell_type": "code",
   "execution_count": 8,
   "id": "8b0aff48",
   "metadata": {},
   "outputs": [
    {
     "data": {
      "text/plain": [
       "[3, 6, 6, 8, 9]"
      ]
     },
     "execution_count": 8,
     "metadata": {},
     "output_type": "execute_result"
    }
   ],
   "source": [
    "h = [3, 6, 9, 8, 6]\n",
    "result = []\n",
    "for _ in range(len(h)):\n",
    "    result.append(heapq.heappop(h))\n",
    "\n",
    "result"
   ]
  }
 ],
 "metadata": {
  "kernelspec": {
   "display_name": "Python 3",
   "language": "python",
   "name": "python3"
  },
  "language_info": {
   "codemirror_mode": {
    "name": "ipython",
    "version": 3
   },
   "file_extension": ".py",
   "mimetype": "text/x-python",
   "name": "python",
   "nbconvert_exporter": "python",
   "pygments_lexer": "ipython3",
   "version": "3.8.10"
  }
 },
 "nbformat": 4,
 "nbformat_minor": 5
}
