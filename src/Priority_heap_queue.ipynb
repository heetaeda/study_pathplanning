{
 "cells": [
  {
   "cell_type": "markdown",
   "id": "2e32806d",
   "metadata": {},
   "source": [
    "## 우선순위 큐 (Priority Queue) 란??\n",
    "\n",
    "- 우선순위가 가장 높은 데이터를 가장 먼저 삭제하는 자료구조\n",
    "\n",
    "- 데이터를 우선순위에 따라 처리하고 싶을 때 주로 사용함.\n",
    "\n",
    "    - 예를 들어, 물건 데이터를 자료구조에 넣었다가 가치가 높은 물건부터 꺼내는 경우 등\n",
    "\n",
    "- 스택, 큐, 우선순위 큐 비교\n",
    "\n",
    "    ![alt text](<Screenshot from 2025-04-20 14-19-23.png>)\n",
    "    - 스택 (stack) : 가장 나중에 삽입된 데이터가 가장 먼저 나감\n",
    "    - 큐 (Queue) : 가장 먼저 삽입된 데이터가 가장 먼저 나감 (공평한 자료구조)\n",
    "    - 우선순위 큐 (Priority Queue) : 가장 우선순위가 높은 데이터가 먼저 나감\n",
    "\n",
    "- 우선순위 큐 구현 방법은 크게 2가지\n",
    "    1. 단순히 리스트를 이용해 구현 \n",
    "        - 일일이 값을 비교 후 가장 큰 값부터 추출\n",
    "    2. 힙 (heap) 자료구조 이용해서 구현하기\n",
    "\n",
    "- 힙 (heap) 의 특징\n",
    "    - 힙은 완전 이진 트리 자료구조의 일종\n",
    "        - 완전 이진 트리 자료구조\n",
    "\n",
    "            ![alt text](<Screenshot from 2025-04-20 14-33-30.png>)\n",
    "            - 루트 노드 부터 시작하여 왼쪽 자식노드, 오른쪽 자식 노드 순서대로 데이터가 차례대로 삽입되는 트리를 의미\n",
    "    - 힙에서는 항상 루트 노드 (root node) 를 제거 한다.\n",
    "        - 데이터 삽입 시 트리에 넣고, 꺼낼 때는 루트 노드에 위치한 데이터가 나오도록 한다.\n",
    "    - 최소힙 (min heap)\n",
    "\n",
    "        ![alt text](<Screenshot from 2025-04-20 14-30-34.png>)\n",
    "        - 루트 노드가 가장 작은 값을 가진다.\n",
    "        - 값이 작은 데이터가 우선적으로 제거된다.\n",
    "        - 최소힙에 무작위로 데이터를 넣어도, 오름차순 (작은 값부터) 으로 출력된다.\n",
    "\n",
    "    - 최대힙 (max heap)\n",
    "\n",
    "\n",
    "        - 루트 노드가 가장 큰 값을 가진다.\n",
    "        - 값이 큰 데이터가 우선적으로 제거된다.\n",
    "\n",
    "\n",
    "    - 어떤 데이터를 힙에 넣었을 때, 그 자료구조가 힙의 성질을 가지게 만들려면??\n",
    "        - Min_Heapify() 함수 : (상향식) 부모 노드로 거슬로 올라가며, 부모보다 자식이 값이 더 작은 경우에 위치를 교체함.\n",
    "\n",
    "        ![alt text](<Screenshot from 2025-04-20 14-38-18.png>)\n",
    "        - 자식 노드(새로운 데이터)가 부모 노드보다 작은 경우 해당 함수를 실행하면 최소 힙 성질을 만족하는 트리가 구성되게 된다.\n",
    "\n",
    "        - 힙에 새로운 원소가 삽입될 때, Min_Heapify 함수를 사용하면 시간 복잡도를 줄일 수 있다.\n",
    "\n",
    "           \n",
    "            ![alt text](<Screenshot from 2025-04-20 14-43-47.png>)\n",
    "            \n",
    "            - 2라는 데이터가 들어올 때, 부모보다 작으므로 자리를 한번 바꾸고, 그다음 3인 부모보다도 작기 때문에 한번 더 바꿔서 두 번만에 루트 노드까지 도달 가능\n",
    "\n",
    "        - 힙에 새로운 원소가 제거될 때\n",
    "\n",
    "            ![alt text](<Screenshot from 2025-04-20 14-46-40.png>)\n",
    "\n",
    "            - 맨 처음에 위치한 루트 노드 값을 꺼낸 후, 마지막 노드의 값이 루트 노드자리로 이동하고,\n",
    "\n",
    "            ![alt text](<Screenshot from 2025-04-20 14-50-29.png>)\n",
    "\n",
    "            - 그 다음 하향식으로 더 작은 자식노드와 위치를 바꿔서 힙의 성질을 유지한다.\n",
    "            \n",
    "            - 아마 이 다음은 3이 빠지고 마지막 노드인 5가 루트 노드로 올라간 후, 루트 노드의 왼쪽 자식 노드인 4와 자리를 바꿔서 힙의 성질을 유지할 것이다. \n",
    "\n",
    "            ![alt text](<Screenshot from 2025-04-20 14-55-24.png>)  <<< 아마 이렇게??\n",
    "\n",
    "\n",
    "#### heapq 에 튜플이나 리스트 형태의 값이 들어올 경우 튜플이나 리스트의 첫 번째 값을 기준으로 우선순위 정렬함!!!!"
   ]
  },
  {
   "cell_type": "markdown",
   "id": "713033fa",
   "metadata": {},
   "source": [
    "## 우선순위 큐 \n",
    "\n",
    "- heapq.heappush(h, value) : h 라는 리스트에 value 값을 최소힙 형태로 넣는다.\n",
    "\n",
    "- heapq.heappop(h) : 최소힙 형태로 정렬되어있는 h 에서 오름차순 (작은 값 부터) 차레대로 뽑아낸다.\n",
    "\n",
    "- heapq.heapify(h) : 리스트 h 를 최소힙 형태로 정렬되도록 바꾼다. 이때, 해당 function 은 반환 값이 없으며, 기존 h 값이 바로 바뀐다."
   ]
  },
  {
   "cell_type": "code",
   "execution_count": 7,
   "id": "3699047c",
   "metadata": {},
   "outputs": [
    {
     "name": "stdout",
     "output_type": "stream",
     "text": [
      "9\n",
      "8\n",
      "6\n",
      "6\n",
      "3\n"
     ]
    }
   ],
   "source": [
    "import sys\n",
    "import heapq\n",
    "\n",
    "# input = sys.stdin.readline\n",
    "\n",
    "def heapsort(iterable):\n",
    "    h = []\n",
    "    result = []\n",
    "\n",
    "    # 모든 원소를 차례대로 힙에 삽입\n",
    "    for value in iterable:\n",
    "        heapq.heappush(h, -value)\n",
    "\n",
    "    # 힙에 삽입된 원소들을 차례대로 꺼내기\n",
    "    for _ in range(len(h)):\n",
    "        result.append(-heapq.heappop(h))\n",
    "    return result\n",
    "\n",
    "# n = int(input())\n",
    "n = int(input(\"정렬할 숫자 갯수 입력하세요 : \"))\n",
    "arr = []\n",
    "\n",
    "for _ in range(n):\n",
    "    arr.append(int(input('숫자를 정수를 입력하세요')))\n",
    "\n",
    "res = heapsort(arr)\n",
    "\n",
    "for i in range(n):\n",
    "    print(res[i])"
   ]
  },
  {
   "cell_type": "code",
   "execution_count": 43,
   "id": "c6e9b7b2",
   "metadata": {},
   "outputs": [
    {
     "data": {
      "text/plain": [
       "(3, (0, 0))"
      ]
     },
     "execution_count": 43,
     "metadata": {},
     "output_type": "execute_result"
    }
   ],
   "source": [
    "h = []\n",
    "cnt = 0\n",
    "for i in [3, 6, 9, 7, 8]:\n",
    "    heapq.heappush(h, (i, (cnt, cnt)))\n",
    "\n",
    "# if (1, 1) in h:\n",
    "#     print('yes')\n",
    "# else:\n",
    "#     print('no')\n",
    "\n",
    "# print(h)\n",
    "\n",
    "a = heapq.heappop(h)\n",
    "\n",
    "a"
   ]
  },
  {
   "cell_type": "code",
   "execution_count": 13,
   "id": "60d156a5",
   "metadata": {},
   "outputs": [
    {
     "data": {
      "text/plain": [
       "[3, 6, 9, 7, 8]"
      ]
     },
     "execution_count": 13,
     "metadata": {},
     "output_type": "execute_result"
    }
   ],
   "source": [
    "h = [3, 6, 9, 7, 8]\n",
    "\n",
    "heapq.heapify(h)\n",
    "\n",
    "h"
   ]
  },
  {
   "cell_type": "code",
   "execution_count": 19,
   "id": "8b0aff48",
   "metadata": {},
   "outputs": [
    {
     "data": {
      "text/plain": [
       "[3, 6, 6, 8, 9]"
      ]
     },
     "execution_count": 19,
     "metadata": {},
     "output_type": "execute_result"
    }
   ],
   "source": [
    "import heapq\n",
    "\n",
    "h = [3, 6, 9, 8, 6]\n",
    "result = []\n",
    "for _ in range(len(h)):\n",
    "    result.append(heapq.heappop(h))\n",
    "\n",
    "result"
   ]
  },
  {
   "cell_type": "code",
   "execution_count": 22,
   "id": "eb88d84c",
   "metadata": {},
   "outputs": [],
   "source": [
    "h = []\n",
    "\n",
    "while h:\n",
    "    print('yes')"
   ]
  },
  {
   "cell_type": "markdown",
   "id": "322ba9ec",
   "metadata": {},
   "source": [
    "## A* 알고리즘 with heap (우선순위 큐)\n",
    "\n",
    "#### F = G + H\n",
    "\n",
    "- G(n) = 출발 노드에서 현재 노드까지의 실제 이동 거리\n",
    "\n",
    "- H(n) = 현재 노드에서 최종 목적지 노드 까지의 예상 이동 거리 (주로 유클리드 거리 함수)\n",
    "\n",
    "- open list = 최단 거리를 계산하기 위한 노드 값들이 갱신됨\n",
    "\n",
    "- close list = 처리가 완료된 노드들이 담기는 공간\n"
   ]
  },
  {
   "cell_type": "code",
   "execution_count": 55,
   "id": "2e6d5384",
   "metadata": {},
   "outputs": [
    {
     "data": {
      "text/plain": [
       "<matplotlib.image.AxesImage at 0x7f05d559b970>"
      ]
     },
     "execution_count": 55,
     "metadata": {},
     "output_type": "execute_result"
    },
    {
     "data": {
      "image/png": "[encoded data removed]",
      "text/plain": [
       "<Figure size 640x480 with 1 Axes>"
      ]
     },
     "metadata": {},
     "output_type": "display_data"
    }
   ],
   "source": [
    "import numpy as np\n",
    "import matplotlib.pyplot as plt\n",
    "import cv2\n",
    "\n",
    "# pgm 지도를 이진화 형태로 변환\n",
    "def pixel_based_map(img):\n",
    "    img_height, img_width = img.shape  # 이미지 크기 가져오기\n",
    "\n",
    "    # 결과 저장할 2D 리스트 생성 (기본값: 1 = 벽)\n",
    "    map_cost = np.ones((img_height, img_width), dtype=int)\n",
    "\n",
    "    # 모든 픽셀을 하나씩 순회하면서 계산\n",
    "    for i in range(img_height):\n",
    "        for j in range(img_width):\n",
    "            if img[i, j] > 210:  # 밝은 픽셀(도로)\n",
    "                map_cost[i, j] = 0  # 도로(0)\n",
    "            else:  # 어두운 픽셀(벽)\n",
    "                map_cost[i, j] = 1  # 벽(1)\n",
    "\n",
    "    return map_cost\n",
    "\n",
    "map = cv2.imread('../data/test_map.pgm', cv2.COLOR_BGR2GRAY)\n",
    "\n",
    "binary_map = pixel_based_map(map)\n",
    "\n",
    "plt.imshow(binary_map, cmap='gray')\n"
   ]
  },
  {
   "cell_type": "code",
   "execution_count": 16,
   "id": "0334fc7c",
   "metadata": {},
   "outputs": [
    {
     "data": {
      "text/plain": [
       "(306, 215)"
      ]
     },
     "execution_count": 16,
     "metadata": {},
     "output_type": "execute_result"
    }
   ],
   "source": [
    "map.shape"
   ]
  },
  {
   "cell_type": "markdown",
   "id": "979d8961",
   "metadata": {},
   "source": [
    "### 격자맵으로 a* 알고리즘 연습해보기\n",
    "\n",
    "- 0 : 길  \n",
    "\n",
    "- 1 : 장애물\n",
    "\n",
    "- 휴리스틱 함수 : 유클리드 거리 함수"
   ]
  },
  {
   "cell_type": "markdown",
   "id": "d88083f7",
   "metadata": {},
   "source": [
    "### 상, 하, 좌, 우 로만 움직일 때"
   ]
  },
  {
   "cell_type": "code",
   "execution_count": 69,
   "id": "8ea7d418",
   "metadata": {},
   "outputs": [
    {
     "name": "stdout",
     "output_type": "stream",
     "text": [
      "final_path =  [(2, 7), (2, 8), (3, 8), (4, 8), (5, 8), (6, 8), (7, 8), (7, 9), (7, 10), (7, 11), (7, 12), (7, 13), (7, 14), (8, 14), (9, 14), (10, 14), (11, 14), (12, 14), (13, 14), (14, 14)]\n",
      "cnt =  40\n"
     ]
    },
    {
     "data": {
      "image/png": "[encoded data removed]",
      "text/plain": [
       "<Figure size 640x480 with 1 Axes>"
      ]
     },
     "metadata": {},
     "output_type": "display_data"
    }
   ],
   "source": [
    "import numpy as np\n",
    "import math\n",
    "import matplotlib.pyplot as plt\n",
    "import heapq\n",
    "\n",
    "grid_map = np.array([\n",
    "    [0, 0, 0, 0, 0, 0, 0, 0, 0, 0, 0, 1, 1, 1, 0],\n",
    "    [1, 1, 1, 0, 1, 0, 1, 1, 1, 1, 0, 1, 0, 0, 0],\n",
    "    [0, 0, 0, 0, 1, 0, 0, 0, 0, 1, 0, 1, 0, 1, 1],\n",
    "    [0, 1, 1, 0, 1, 1, 1, 1, 0, 1, 0, 0, 0, 1, 0],\n",
    "    [0, 1, 0, 0, 0, 0, 0, 1, 0, 1, 1, 1, 0, 1, 0],\n",
    "    [0, 1, 0, 1, 1, 1, 0, 1, 0, 0, 0, 0, 0, 1, 0],\n",
    "    [0, 1, 0, 0, 0, 0, 0, 1, 0, 1, 1, 1, 0, 1, 0],\n",
    "    [0, 1, 1, 1, 1, 0, 1, 1, 0, 0, 0, 0, 0, 0, 0],\n",
    "    [0, 0, 0, 0, 0, 0, 0, 0, 0, 1, 1, 1, 1, 1, 0],\n",
    "    [1, 1, 1, 1, 1, 1, 1, 1, 0, 1, 0, 0, 0, 1, 0],\n",
    "    [0, 0, 0, 0, 0, 0, 0, 1, 0, 1, 0, 1, 0, 1, 0],\n",
    "    [0, 1, 1, 1, 1, 1, 0, 0, 0, 1, 0, 1, 0, 1, 0],\n",
    "    [0, 1, 0, 0, 0, 1, 0, 1, 0, 0, 0, 1, 0, 1, 0],\n",
    "    [0, 1, 0, 1, 0, 1, 0, 1, 1, 1, 0, 1, 0, 0, 0],\n",
    "    [0, 0, 0, 1, 0, 0, 0, 0, 0, 0, 0, 1, 1, 1, 0]\n",
    "])\n",
    "\n",
    "\n",
    "def heuristic(current, goal):\n",
    "    return math.sqrt((current[1] - goal[1])**2 + (current[0] - goal[0])**2)\n",
    "\n",
    "def a_star(map, start, goal):\n",
    "    neighbors = [(0, 1), (1, 0), (-1, 0), (0, -1)]  # 오른쪽, 아래, 위, 왼쪽\n",
    "\n",
    "    row = map.shape[0]  # 행\n",
    "    col = map.shape[1]  # 열\n",
    "    \n",
    "    close_list = []\n",
    "    came_from = {}  # 최종 경로를 추적하기 위한 딕셔너리\n",
    "    gscore = {start : 0}  # 출발 위치에서 현재 위치까지의 실제 거리\n",
    "    fscore = {start : heuristic(start, goal)}  # gscore + 현재 위치에서 목표위치 까지의 직선 추정거리 (heuristic score)\n",
    "    # fscore 의 값은 항상 각 노드 (key) 에 대한 최소 값 (value) 을 하나만 가지도록 업데이트 됨.\n",
    "\n",
    "    open_heap = []  # 최단 거리를 갱신하기 위한 노드 값들이 계속 추가됨.\n",
    "    heapq.heappush(open_heap, (fscore[start], start))  # 출발 위치의 fscore 값과 출발 위치를 open_heap 에 넣는다.\n",
    "     \n",
    "    cnt = 0\n",
    "\n",
    "    while open_heap:  # open_heap 에 값이 없을 때까지 계속 반복\n",
    "        # current = heapq.heappop(open_heap)[1]  # open list 에 있는 값들 중, fscore 가 가장 작은 튜플의 좌표 값을 current 좌표로\n",
    "\n",
    "        current_f, current = heapq.heappop(open_heap)\n",
    "\n",
    "        # open_heap 에 중복되는 노드가 있을 경우, fscore 값을 비교해서 fscore 값이 더 작은 노드 값만 사용\n",
    "        if current_f > fscore[current]:\n",
    "            continue\n",
    "\n",
    "        if current == goal:\n",
    "            path = []\n",
    "            # path.append(start)  # 우선 출발 위치 추가\n",
    "            # came_from 의 key 값에는 절대로 start 좌표가 들어가지 않는다. 그러므로, start 좌표를 처리할 상황이 되면 while 문을 빠져나온다.\n",
    "            while current in came_from.keys():\n",
    "                path.append(current)  # 경로에 현재 노드를 추가하고\n",
    "                current = came_from[current]  # 현재 노드를 추가된 노드의 부모 노드로 바꾼다.\n",
    "            path.append(start)  # 마지막에 출발 위치 추가\n",
    "            return path[::-1], cnt  # goal 위치부터 경로가 기록되므로 역순으로 반환해야 함.\n",
    "\n",
    "        close_list.append(current)  # close_list 에 fscore 가 가장 작은 값을 추가한다.\n",
    "\n",
    "        cnt += 1\n",
    "\n",
    "        for i, j in neighbors:\n",
    "            neighbor = (current[0] + i, current[1] + j)  # 인접한 노드들\n",
    "            if (0 <= neighbor[0] < row) and (0 <= neighbor[1] < col) and map[neighbor[0]][neighbor[1]] != 1:\n",
    "                # 이웃 노드가 맵 범위 안에 있고, 벽이 아닌 상태에서 해당 이웃 노드의 gscore 는 current 의 gscore 에 1 을 더한거다.\n",
    "                neighbor_gscore = gscore[current] + 1  # 한칸 이동했으므로 1 을 더해준다.\n",
    "                \n",
    "                if neighbor in gscore.keys():\n",
    "                    if gscore[neighbor] > neighbor_gscore:\n",
    "                        gscore[neighbor] = neighbor_gscore\n",
    "                        fscore[neighbor] = neighbor_gscore + heuristic(neighbor, goal)\n",
    "                        heapq.heappush(open_heap, (fscore[neighbor], neighbor))\n",
    "                        came_from[neighbor] = current  # neighbor 노드의 부모 노드 = current\n",
    "                    else:\n",
    "                        continue\n",
    "                        \n",
    "                else:            \n",
    "                    gscore[neighbor] = neighbor_gscore  # 이웃 노드의 gscore\n",
    "                    fscore[neighbor] = neighbor_gscore + heuristic(neighbor, goal)\n",
    "                    heapq.heappush(open_heap, (fscore[neighbor], neighbor))\n",
    "                    came_from[neighbor] = current  # neighbor 노드의 부모 노드 = current\n",
    "            \n",
    "            # print('came_from : ', came_from)\n",
    "            # print('gscore : ', gscore)\n",
    "            # print('fscore : ', fscore)\n",
    "\n",
    "\n",
    "start = (2, 7)\n",
    "goal = (14, 14)\n",
    "\n",
    "final_path, cnt = a_star(grid_map, start, goal)\n",
    "\n",
    "for y, x in final_path:\n",
    "    grid_map[y][x] = 3\n",
    "\n",
    "print('final_path = ', final_path)\n",
    "\n",
    "print('cnt = ', cnt)\n",
    "plt.imshow(grid_map, cmap='gray')\n",
    "plt.show()"
   ]
  },
  {
   "cell_type": "markdown",
   "id": "c5f3e963",
   "metadata": {},
   "source": [
    "### 대각선 방향 포함"
   ]
  },
  {
   "cell_type": "code",
   "execution_count": 70,
   "id": "10d9adf2",
   "metadata": {},
   "outputs": [
    {
     "name": "stdout",
     "output_type": "stream",
     "text": [
      "최종 경로 :  [(1000, 460), (999, 459), (998, 458), (997, 457), (996, 457), (995, 457), (994, 457), (993, 457), (992, 457), (991, 457), (990, 457), (989, 457), (988, 457), (987, 457), (986, 457), (985, 456), (984, 455), (983, 454), (982, 453), (981, 452), (980, 451), (979, 450), (978, 449), (977, 448), (976, 447), (975, 446), (974, 446), (973, 446), (972, 445), (971, 444), (970, 443), (969, 442), (968, 441), (967, 440), (966, 439), (965, 438), (964, 437), (963, 436), (962, 435), (961, 434), (960, 433), (959, 432), (958, 431), (957, 430), (956, 429), (955, 428), (954, 427), (953, 426), (952, 425), (951, 425), (950, 425), (949, 425), (948, 425), (947, 425), (946, 425), (945, 425), (944, 425), (943, 425), (942, 425), (941, 425), (940, 425), (939, 425), (938, 425), (937, 425), (936, 425), (935, 425), (934, 425), (933, 425), (932, 425), (931, 425), (930, 425), (929, 425), (928, 425), (927, 425), (926, 425), (925, 425), (924, 425), (923, 425), (922, 425), (921, 425), (920, 425), (919, 425), (918, 425), (917, 425), (916, 425), (915, 425), (914, 425), (913, 425), (912, 425), (911, 425), (910, 425), (909, 425), (908, 425), (907, 425), (906, 425), (905, 425), (904, 425), (903, 425), (902, 425), (901, 425), (900, 425), (899, 425), (898, 425), (897, 425), (896, 425), (895, 425), (894, 425), (893, 425), (892, 425), (891, 425), (890, 425), (889, 425), (888, 425), (887, 425), (886, 425), (885, 425), (884, 425), (883, 425), (882, 425), (881, 425), (880, 425), (879, 425), (878, 425), (877, 425), (876, 425), (875, 425), (874, 425), (873, 425), (872, 425), (871, 425), (870, 425), (869, 425), (868, 425), (867, 425), (866, 425), (865, 425), (864, 425), (863, 425), (862, 425), (861, 425), (860, 425), (859, 425), (858, 425), (857, 425), (856, 425), (855, 425), (854, 425), (853, 425), (852, 425), (851, 425), (850, 425), (849, 425), (848, 425), (847, 425), (846, 425), (845, 425), (844, 425), (843, 425), (842, 425), (841, 425), (840, 425), (839, 425), (838, 425), (837, 425), (836, 425), (835, 425), (834, 425), (833, 425), (832, 425), (831, 425), (830, 425), (829, 425), (828, 425), (827, 425), (826, 425), (825, 425), (824, 425), (823, 425), (822, 425), (821, 425), (820, 425), (819, 425), (818, 424), (817, 423), (816, 422), (815, 421), (814, 420), (813, 419), (812, 418), (811, 418), (810, 418), (809, 418), (808, 418), (807, 418), (806, 418), (805, 418), (804, 418), (803, 418), (802, 418), (801, 418), (800, 418), (799, 418), (798, 418), (797, 418), (796, 418), (795, 418), (794, 418), (793, 418), (792, 418), (791, 418), (790, 418), (789, 418), (788, 418), (787, 418), (786, 418), (785, 418), (784, 418), (783, 418), (782, 418), (781, 418), (780, 418), (779, 418), (778, 418), (777, 418), (776, 418), (775, 418), (774, 418), (773, 418), (772, 418), (771, 418), (770, 418), (769, 418), (768, 418), (767, 418), (766, 418), (765, 418), (764, 418), (763, 418), (762, 418), (761, 418), (760, 418), (759, 417), (758, 416), (757, 415), (756, 414), (755, 413), (754, 412), (753, 411), (752, 410), (751, 409), (750, 408), (749, 407), (748, 406), (747, 405), (746, 404), (745, 403), (744, 403), (743, 403), (742, 403), (741, 403), (740, 403), (739, 403), (738, 403), (737, 403), (736, 403), (735, 403), (734, 403), (733, 403), (732, 403), (731, 403), (730, 403), (729, 403), (728, 403), (727, 403), (726, 403), (725, 403), (724, 403), (723, 403), (722, 403), (721, 403), (720, 403), (719, 403), (718, 403), (717, 403), (716, 403), (715, 403), (714, 403), (713, 403), (712, 403), (711, 403), (710, 403), (709, 403), (708, 403), (707, 403), (706, 403), (705, 403), (704, 403), (703, 403), (702, 403), (701, 403), (700, 403), (699, 403), (698, 403), (697, 403), (696, 403), (695, 403), (694, 403), (693, 403), (692, 403), (691, 403), (690, 403), (689, 403), (688, 403), (687, 403), (686, 403), (685, 403), (684, 403), (683, 403), (682, 403), (681, 403), (680, 403), (679, 402), (678, 401), (677, 400), (676, 399), (675, 398), (674, 397), (673, 396), (672, 395), (671, 394), (670, 393), (669, 392), (668, 391), (667, 390), (666, 389), (665, 388), (664, 387), (663, 386), (662, 385), (661, 384), (660, 383), (659, 382), (658, 381), (657, 380), (656, 379), (655, 378), (654, 377), (653, 376), (652, 375), (651, 374), (650, 373), (649, 372), (648, 371), (647, 370), (646, 369), (645, 368), (644, 368), (643, 368), (642, 368), (641, 368), (640, 368), (639, 368), (638, 368), (637, 368), (636, 368), (635, 368), (634, 368), (633, 368), (632, 368), (631, 368), (630, 368), (629, 368), (628, 368), (627, 368), (626, 368), (625, 368), (624, 368), (623, 368), (622, 368), (621, 368), (620, 368), (619, 368), (618, 368), (617, 368), (616, 368), (615, 368), (614, 368), (613, 368), (612, 368), (611, 368), (610, 368), (609, 368), (608, 368), (607, 368), (606, 368), (605, 368), (604, 368), (603, 368), (602, 368), (601, 368), (600, 368), (599, 368), (598, 368), (597, 368), (596, 368), (595, 368), (594, 368), (593, 368), (592, 368), (591, 368), (590, 368), (589, 368), (588, 368), (587, 368), (586, 368), (585, 368), (584, 368), (583, 368), (582, 368), (581, 368), (580, 368), (579, 368), (578, 368), (577, 368), (576, 368), (575, 368), (574, 368), (573, 368), (572, 368), (571, 368), (570, 368), (569, 368), (568, 368), (567, 368), (566, 368), (565, 368), (564, 368), (563, 368), (562, 368), (561, 368), (560, 368), (559, 368), (558, 368), (557, 368), (556, 368), (555, 368), (554, 368), (553, 368), (552, 368), (551, 368), (550, 368), (549, 368), (548, 368), (547, 368), (546, 368), (545, 368), (544, 368), (543, 368), (542, 368), (541, 368), (540, 368), (539, 368), (538, 368), (537, 368), (536, 368), (535, 368), (534, 368), (533, 368), (532, 368), (531, 368), (530, 368), (529, 368), (528, 368), (527, 368), (526, 368), (525, 368), (524, 368), (523, 368), (522, 368), (521, 368), (520, 368), (519, 368), (518, 368), (517, 368), (516, 368), (515, 368), (514, 368), (513, 368), (512, 368), (511, 368), (510, 368), (509, 368), (508, 368), (507, 368), (506, 368), (505, 368), (504, 368), (503, 368), (502, 368), (501, 368), (500, 368), (499, 368), (498, 368), (497, 368), (496, 368), (495, 368), (494, 369), (493, 370), (492, 371), (491, 372), (490, 373), (489, 374), (488, 375), (487, 376), (486, 377), (485, 378), (484, 379), (483, 380), (482, 381), (481, 382), (480, 383), (479, 384), (478, 385), (477, 386), (476, 387), (475, 388), (474, 389), (473, 390), (472, 391), (471, 392), (470, 393), (469, 394), (468, 395), (467, 396), (466, 397), (465, 398), (464, 399), (463, 400), (462, 401), (461, 402), (460, 403), (459, 404), (458, 405), (457, 406), (456, 407), (455, 408), (454, 409), (453, 410), (452, 411), (451, 411), (450, 411), (449, 411), (448, 411), (447, 411), (446, 411), (445, 411), (444, 411), (443, 410), (442, 409), (441, 408), (440, 407), (439, 406), (438, 405), (437, 404), (436, 403), (435, 402), (434, 401), (433, 400), (432, 399), (431, 398), (430, 397), (429, 396), (428, 395), (427, 394), (426, 393), (425, 392), (424, 391), (423, 390), (422, 389), (421, 388), (420, 387), (419, 386), (418, 385), (417, 384), (416, 383), (415, 382), (414, 381), (413, 380), (412, 379), (411, 378), (410, 377), (409, 376), (408, 375), (407, 374), (406, 374), (405, 374), (404, 374), (403, 374), (402, 374), (401, 374), (400, 374), (399, 374), (398, 374), (397, 374), (396, 374), (395, 373), (394, 372), (393, 371), (392, 370), (391, 369), (390, 368), (389, 367), (388, 366), (387, 365), (386, 364), (385, 363), (384, 362), (383, 361), (382, 360), (381, 359), (380, 358), (379, 357), (378, 356), (377, 355), (376, 354), (375, 353), (374, 352), (373, 351), (372, 350), (371, 349), (370, 349), (369, 349), (368, 349), (367, 349), (366, 349), (365, 349), (364, 349), (363, 349), (362, 349), (361, 348), (360, 348), (359, 348), (358, 348), (357, 348), (356, 348), (355, 348), (354, 348), (353, 348), (352, 348), (351, 348), (350, 348), (349, 348), (348, 348), (347, 348), (346, 348), (345, 348), (344, 348), (343, 348), (342, 348), (341, 348), (340, 348), (339, 348), (338, 348), (337, 347), (336, 346), (335, 345), (334, 344), (333, 343), (332, 342), (331, 341), (330, 340), (329, 339), (328, 338), (327, 337), (326, 336), (325, 335), (324, 334), (323, 333), (322, 332), (321, 331), (320, 330), (319, 329), (318, 328), (317, 327), (316, 326), (315, 325), (314, 324), (313, 323), (312, 322), (311, 321), (310, 320), (309, 319), (308, 318), (307, 317), (306, 316), (305, 315), (304, 314), (303, 313), (302, 313), (301, 313), (300, 313), (299, 313), (298, 313), (297, 313), (296, 313), (295, 312), (295, 311), (295, 310), (295, 309), (295, 308), (295, 307), (295, 306), (295, 305), (295, 304), (295, 303), (295, 302), (295, 301), (295, 300), (294, 299), (293, 298), (292, 297), (291, 296), (290, 295), (289, 294), (288, 293), (287, 292), (286, 291), (285, 290), (284, 289), (283, 288), (282, 287), (281, 286), (280, 285), (279, 284), (278, 283), (277, 282), (276, 281), (275, 280), (274, 279), (273, 278), (272, 277), (271, 276), (270, 275), (269, 274), (268, 273), (267, 272), (266, 271), (265, 270), (264, 269), (263, 268), (262, 267), (261, 266), (261, 265), (261, 264), (261, 263), (261, 262), (261, 261), (261, 260), (261, 259), (261, 258), (262, 257), (263, 256), (264, 255), (265, 254), (266, 253), (267, 252), (268, 251), (269, 250), (270, 249), (271, 248), (272, 247), (273, 246), (274, 245), (275, 244), (276, 243), (277, 242), (278, 241), (279, 240), (280, 239), (281, 238), (282, 237), (283, 237), (284, 237), (285, 237), (286, 237), (287, 237), (288, 237), (289, 237), (290, 237), (291, 236), (291, 235), (292, 234), (292, 233), (292, 232), (292, 231), (293, 230), (293, 229), (293, 228), (293, 227), (293, 226), (293, 225), (293, 224), (293, 223), (293, 222), (293, 221), (293, 220), (293, 219), (293, 218), (293, 217), (293, 216), (293, 215), (293, 214), (293, 213), (293, 212), (293, 211), (293, 210), (293, 209), (293, 208), (293, 207), (293, 206), (293, 205), (293, 204), (293, 203), (293, 202), (293, 201), (293, 200), (293, 199), (293, 198), (293, 197), (293, 196), (293, 195), (293, 194), (293, 193), (293, 192), (293, 191), (293, 190), (293, 189), (293, 188), (293, 187), (293, 186), (293, 185), (293, 184), (293, 183), (293, 182), (293, 181), (293, 180), (293, 179), (293, 178), (293, 177), (293, 176), (293, 175), (293, 174), (293, 173), (293, 172), (293, 171), (293, 170), (293, 169), (293, 168), (293, 167), (293, 166), (293, 165), (293, 164), (293, 163), (293, 162), (293, 161), (293, 160), (293, 159), (293, 158), (293, 157), (293, 156), (293, 155), (293, 154), (293, 153), (293, 152), (293, 151), (293, 150), (293, 149), (293, 148), (293, 147), (294, 146), (295, 145), (296, 144), (297, 143), (298, 142), (299, 141), (300, 140), (301, 139), (302, 138), (303, 137), (304, 136), (305, 135), (306, 134), (307, 133), (308, 132), (309, 131), (309, 130), (309, 129), (309, 128), (309, 127), (309, 126), (310, 125), (311, 124), (311, 123), (311, 122), (311, 121), (311, 120), (311, 119), (311, 118), (311, 117), (311, 116), (311, 115), (311, 114), (311, 113), (311, 112), (311, 111), (311, 110), (311, 109), (311, 108), (311, 107), (311, 106), (311, 105), (311, 104), (311, 103), (311, 102), (311, 101), (311, 100), (311, 99), (311, 98), (311, 97), (311, 96), (311, 95), (311, 94), (311, 93), (311, 92), (311, 91), (311, 90), (311, 89), (311, 88), (311, 87), (311, 86), (311, 85), (311, 84), (311, 83), (311, 82), (311, 81), (311, 80), (311, 79), (311, 78), (311, 77), (311, 76), (311, 75), (311, 74), (311, 73), (311, 72), (311, 71), (311, 70), (311, 69), (311, 68), (311, 67), (311, 66), (311, 65), (311, 64), (311, 63), (311, 62), (311, 61), (311, 60), (311, 59), (311, 58), (311, 57), (311, 56), (311, 55), (311, 54), (311, 53), (311, 52), (311, 51), (311, 50), (311, 49), (311, 48), (311, 47), (310, 46), (309, 45), (308, 44), (307, 43), (306, 42), (305, 41), (304, 40), (303, 39), (302, 38), (301, 37), (300, 36), (299, 35), (298, 34), (297, 33), (296, 32), (295, 31), (294, 30), (294, 29), (293, 28), (293, 27), (293, 26), (292, 25), (292, 24), (291, 23), (291, 22), (290, 21), (290, 20)]\n",
      "경로 노드 갯수 :  1006\n",
      "cnt =  103741\n"
     ]
    },
    {
     "data": {
      "image/png": "[encoded data removed]",
      "text/plain": [
       "<Figure size 640x480 with 1 Axes>"
      ]
     },
     "metadata": {},
     "output_type": "display_data"
    }
   ],
   "source": [
    "import numpy as np\n",
    "import math\n",
    "import matplotlib.pyplot as plt\n",
    "import heapq\n",
    "\n",
    "grid_map = np.array([\n",
    "    [0, 0, 0, 0, 0, 0, 0, 0, 0, 0, 0, 1, 1, 1, 0],\n",
    "    [1, 1, 1, 0, 1, 0, 1, 1, 1, 1, 0, 1, 0, 0, 0],\n",
    "    [0, 0, 0, 0, 1, 0, 0, 0, 0, 1, 0, 1, 0, 1, 1],\n",
    "    [0, 1, 1, 0, 1, 1, 1, 1, 0, 1, 0, 0, 0, 1, 0],\n",
    "    [0, 1, 0, 0, 0, 0, 0, 1, 0, 1, 1, 1, 0, 1, 0],\n",
    "    [0, 1, 0, 1, 1, 1, 0, 1, 0, 0, 0, 0, 0, 1, 0],\n",
    "    [0, 1, 0, 0, 0, 0, 0, 1, 0, 1, 1, 1, 0, 1, 0],\n",
    "    [0, 1, 1, 1, 1, 0, 1, 1, 0, 0, 0, 0, 0, 0, 0],\n",
    "    [0, 0, 0, 0, 0, 0, 0, 0, 0, 1, 1, 1, 1, 1, 0],\n",
    "    [1, 1, 1, 1, 1, 1, 1, 1, 0, 1, 0, 0, 0, 1, 0],\n",
    "    [0, 0, 0, 0, 0, 0, 0, 1, 0, 1, 0, 1, 0, 1, 0],\n",
    "    [0, 1, 1, 1, 1, 1, 0, 0, 0, 1, 0, 1, 0, 1, 0],\n",
    "    [0, 1, 0, 0, 0, 1, 0, 1, 0, 0, 0, 1, 0, 1, 0],\n",
    "    [0, 1, 0, 1, 0, 1, 0, 1, 1, 1, 0, 1, 0, 0, 0],\n",
    "    [0, 0, 0, 1, 0, 0, 0, 0, 0, 0, 0, 1, 1, 1, 0]\n",
    "])\n",
    "\n",
    "\n",
    "def heuristic(current, goal):\n",
    "    return math.sqrt((current[1] - goal[1])**2 + (current[0] - goal[0])**2)\n",
    "\n",
    "def a_star(map, start, goal):\n",
    "    # neighbors = [(0, 1), (1, 0), (-1, 0), (0, -1)]  # 오른쪽, 아래, 위, 왼쪽\n",
    "\n",
    "    neighbors = [(0, 1), (1, 0), (-1, 0), (0, -1), (1, 1), (1, -1), (-1, 1), (-1, -1)]  # 상하좌우 및 대각선 까지 포함\n",
    "\n",
    "    row = map.shape[0]  # 행\n",
    "    col = map.shape[1]  # 열\n",
    "    \n",
    "    close_list = []\n",
    "    came_from = {}  # 최종 경로를 추적하기 위한 딕셔너리\n",
    "    gscore = {start : 0}  # 출발 위치에서 현재 위치까지의 실제 거리\n",
    "    fscore = {start : heuristic(start, goal)}  # gscore + 현재 위치에서 목표위치 까지의 직선 추정거리 (heuristic score)\n",
    "    # fscore 의 값은 항상 각 노드 (key) 에 대한 최소 값 (value) 을 하나만 가지도록 업데이트 됨.\n",
    "\n",
    "    open_heap = []  # 최단 거리를 갱신하기 위한 노드 값들이 계속 추가됨.\n",
    "    heapq.heappush(open_heap, (fscore[start], start))  # 출발 위치의 fscore 값과 출발 위치를 open_heap 에 넣는다.\n",
    "     \n",
    "    cnt = 0\n",
    "\n",
    "    while open_heap:  # open_heap 에 값이 없을 때까지 계속 반복\n",
    "        # current = heapq.heappop(open_heap)[1]  # open list 에 있는 값들 중, fscore 가 가장 작은 튜플의 좌표 값을 current 좌표로\n",
    "\n",
    "        current_f, current = heapq.heappop(open_heap)\n",
    "\n",
    "        # open_heap 에 중복되는 노드가 있을 경우, fscore 값을 비교해서 fscore 값이 더 작은 노드 값만 사용\n",
    "        if current_f > fscore[current]:\n",
    "            continue\n",
    "\n",
    "        if current == goal:\n",
    "            path = []\n",
    "            # path.append(start)  # 우선 출발 위치 추가\n",
    "            # came_from 의 key 값에는 절대로 start 좌표가 들어가지 않는다. 그러므로, start 좌표를 처리할 상황이 되면 while 문을 빠져나온다.\n",
    "            while current in came_from.keys():\n",
    "                path.append(current)  # 경로에 현재 노드를 추가하고\n",
    "                current = came_from[current]  # 현재 노드를 추가된 노드의 부모 노드로 바꾼다.\n",
    "            path.append(start)  # 마지막에 출발 위치 추가\n",
    "            return path[::-1], cnt  # goal 위치부터 경로가 기록되므로 역순으로 반환해야 함.\n",
    "\n",
    "        close_list.append(current)  # close_list 에 fscore 가 가장 작은 값을 추가한다.\n",
    "\n",
    "        cnt += 1\n",
    "\n",
    "        for i, j in neighbors:\n",
    "            neighbor = (current[0] + i, current[1] + j)  # 인접한 노드들\n",
    "            if (0 <= neighbor[0] < row) and (0 <= neighbor[1] < col) and map[neighbor[0]][neighbor[1]] != 1:\n",
    "                # 이웃 노드가 맵 범위 안에 있고, 벽이 아닌 상태에서 해당 이웃 노드의 gscore 는 current 의 gscore 에 1 을 더한거다.\n",
    "                if abs(i) == 1 and abs(j) == 1:  # 대각선 방향 인접한 노드들이면\n",
    "                    neighbor_gscore = gscore[current] + 1.4  # 대각선 한칸 이동했으므로 1.4 를 더해준다.\n",
    "                else:\n",
    "                    neighbor_gscore = gscore[current] + 1  # 한칸 이동했으므로 1 을 더해준다.\n",
    "\n",
    "                if neighbor in gscore.keys():\n",
    "                    if gscore[neighbor] > neighbor_gscore:\n",
    "                        gscore[neighbor] = neighbor_gscore\n",
    "                        fscore[neighbor] = neighbor_gscore + heuristic(neighbor, goal)\n",
    "                        heapq.heappush(open_heap, (fscore[neighbor], neighbor))\n",
    "                        came_from[neighbor] = current  # neighbor 노드의 부모 노드 = current\n",
    "                    else:\n",
    "                        continue\n",
    "                        \n",
    "                else:            \n",
    "                    gscore[neighbor] = neighbor_gscore  # 이웃 노드의 gscore\n",
    "                    fscore[neighbor] = neighbor_gscore + heuristic(neighbor, goal)\n",
    "                    heapq.heappush(open_heap, (fscore[neighbor], neighbor))\n",
    "                    came_from[neighbor] = current  # neighbor 노드의 부모 노드 = current\n",
    "            \n",
    "            # print('came_from : ', came_from)\n",
    "            # print('gscore : ', gscore)\n",
    "            # print('fscore : ', fscore)\n",
    "\n",
    "plt.imshow(binary_map, cmap='gray')\n",
    "\n",
    "start = (1000, 460)\n",
    "goal = (290, 20)\n",
    "\n",
    "final_path, cnt = a_star(binary_map, start, goal)\n",
    "\n",
    "# for y, x in final_path:\n",
    "#     plt.plot(y, x, 'red', linewidth=2)\n",
    "\n",
    "print('최종 경로 : ', final_path)\n",
    "print('경로 노드 갯수 : ', len(final_path))\n",
    "print('cnt = ', cnt)\n",
    "final_path_np = np.array(final_path)\n",
    "plt.plot(final_path_np[:, 1], final_path_np[:, 0], 'red', linewidth=1)\n",
    "\n",
    "plt.scatter(start[1], start[0], color='blue', marker='o', label='Start', s=30)\n",
    "plt.scatter(goal[1], goal[0], color='red', marker='x', label='Goal', s=30)\n",
    "\n",
    "# plt.imshow(binary_map, cmap='gray')\n",
    "plt.show()"
   ]
  },
  {
   "cell_type": "code",
   "execution_count": 66,
   "id": "33a5d550",
   "metadata": {},
   "outputs": [
    {
     "data": {
      "image/png": "[encoded data removed]",
      "text/plain": [
       "<Figure size 640x480 with 1 Axes>"
      ]
     },
     "metadata": {},
     "output_type": "display_data"
    }
   ],
   "source": [
    "import heapq\n",
    "import math\n",
    "\n",
    "# 방향 (상, 하, 좌, 우)\n",
    "directions = [(-1, 0), (1, 0), (0, -1), (0, 1)]\n",
    "\n",
    "def heuristic(a, b):\n",
    "    return math.sqrt((a[0] - b[0])**2 + (a[1] - b[1])**2)\n",
    "\n",
    "def in_bounds(grid, x, y):\n",
    "    return 0 <= x < len(grid) and 0 <= y < len(grid[0])\n",
    "\n",
    "def neighbors(grid, node):\n",
    "    x, y = node\n",
    "    result = []\n",
    "    for dx, dy in directions:\n",
    "        nx, ny = x + dx, y + dy\n",
    "        if in_bounds(grid, nx, ny) and grid[nx][ny] == 0:\n",
    "            result.append((nx, ny))\n",
    "    return result\n",
    "\n",
    "def reconstruct_path(came_from, start, goal):\n",
    "    current = goal\n",
    "    path = [current]\n",
    "    while current != start:\n",
    "        current = came_from.get(current)\n",
    "        if current is None:\n",
    "            return None\n",
    "        path.append(current)\n",
    "    path.reverse()\n",
    "    return path\n",
    "\n",
    "def dijkstra(grid, start, goal):\n",
    "    open_list = []\n",
    "    heapq.heappush(open_list, (0, start))\n",
    "    came_from = {}\n",
    "    cost_so_far = {start: 0}\n",
    "\n",
    "    while open_list:\n",
    "        cost, current = heapq.heappop(open_list)\n",
    "        if current == goal:\n",
    "            break\n",
    "        for next_node in neighbors(grid, current):\n",
    "            new_cost = cost_so_far[current] + 1  # 전부 cost=1\n",
    "            if next_node not in cost_so_far or new_cost < cost_so_far[next_node]:\n",
    "                cost_so_far[next_node] = new_cost\n",
    "                heapq.heappush(open_list, (new_cost, next_node))\n",
    "                came_from[next_node] = current\n",
    "\n",
    "    return reconstruct_path(came_from, start, goal)\n",
    "\n",
    "def a_star(grid, start, goal):\n",
    "    open_list = []\n",
    "    heapq.heappush(open_list, (0, start))\n",
    "    came_from = {}\n",
    "    cost_so_far = {start: 0}\n",
    "\n",
    "    while open_list:\n",
    "        _, current = heapq.heappop(open_list)\n",
    "        if current == goal:\n",
    "            break\n",
    "        for next_node in neighbors(grid, current):\n",
    "            new_cost = cost_so_far[current] + 1\n",
    "            if next_node not in cost_so_far or new_cost < cost_so_far[next_node]:\n",
    "                cost_so_far[next_node] = new_cost\n",
    "                priority = new_cost + heuristic(next_node, goal)\n",
    "                heapq.heappush(open_list, (priority, next_node))\n",
    "                came_from[next_node] = current\n",
    "\n",
    "    return reconstruct_path(came_from, start, goal)\n",
    "\n",
    "def hybrid_search(grid, start, goal, level=2):\n",
    "    current = start\n",
    "    path = [current]\n",
    "\n",
    "    while current != goal:\n",
    "        segment = dijkstra(grid, current, goal)\n",
    "        if not segment: return None\n",
    "        segment = segment[1:level+1]\n",
    "        if not segment: break\n",
    "        path.extend(segment)\n",
    "        current = segment[-1]\n",
    "        if current == goal: break\n",
    "\n",
    "        segment = a_star(grid, current, goal)\n",
    "        if not segment: return None\n",
    "        segment = segment[1:level+1]\n",
    "        if not segment: break\n",
    "        path.extend(segment)\n",
    "        current = segment[-1]\n",
    "\n",
    "    return path\n",
    "\n",
    "# 📌 사용 예시\n",
    "if __name__ == \"__main__\":\n",
    "\n",
    "    grid = np.array([\n",
    "    [0, 0, 0, 0, 0, 0, 0, 0, 0, 0, 0, 1, 1, 1, 0],\n",
    "    [1, 1, 1, 0, 1, 0, 1, 1, 1, 1, 0, 1, 0, 0, 0],\n",
    "    [0, 0, 0, 0, 1, 0, 0, 0, 0, 1, 0, 1, 0, 1, 1],\n",
    "    [0, 1, 1, 0, 1, 1, 1, 1, 0, 1, 0, 0, 0, 1, 0],\n",
    "    [0, 1, 0, 0, 0, 0, 0, 1, 0, 1, 1, 1, 0, 1, 0],\n",
    "    [0, 1, 0, 1, 1, 1, 0, 1, 0, 0, 0, 0, 0, 1, 0],\n",
    "    [0, 1, 0, 0, 0, 0, 0, 1, 0, 1, 1, 1, 0, 1, 0],\n",
    "    [0, 1, 1, 1, 1, 0, 1, 1, 0, 0, 0, 0, 0, 0, 0],\n",
    "    [0, 0, 0, 0, 0, 0, 0, 0, 0, 1, 1, 1, 1, 1, 0],\n",
    "    [1, 1, 1, 1, 1, 1, 1, 1, 0, 1, 0, 0, 0, 1, 0],\n",
    "    [0, 0, 0, 0, 0, 0, 0, 1, 0, 1, 0, 1, 0, 1, 0],\n",
    "    [0, 1, 1, 1, 1, 1, 0, 0, 0, 1, 0, 1, 0, 1, 0],\n",
    "    [0, 1, 0, 0, 0, 1, 0, 1, 0, 0, 0, 1, 0, 1, 0],\n",
    "    [0, 1, 0, 1, 0, 1, 0, 1, 1, 1, 0, 1, 0, 0, 0],\n",
    "    [0, 0, 0, 1, 0, 0, 0, 0, 0, 0, 0, 1, 1, 1, 0]\n",
    "])\n",
    "\n",
    "    start = (0, 0)\n",
    "    goal = (14, 14)\n",
    "    path = hybrid_search(grid, start, goal, level=2)\n",
    "\n",
    "    result_grid = grid.copy()\n",
    "\n",
    "    for y, x in path:\n",
    "        result_grid[y][x] = 2\n",
    "\n",
    "    plt.imshow(result_grid, cmap='gray')\n",
    "\n",
    "    # if path:\n",
    "    #     print(\"🧭 Hybrid Path:\", path)\n",
    "    #     # 시각화\n",
    "    #     for i, row in enumerate(grid):\n",
    "    #         line = ''\n",
    "    #         for j, val in enumerate(row):\n",
    "    #             if (i, j) == start:\n",
    "    #                 line += 'S '\n",
    "    #             elif (i, j) == goal:\n",
    "    #                 line += 'G '\n",
    "    #             elif (i, j) in path:\n",
    "    #                 line += '* '\n",
    "    #             elif val == 1:\n",
    "    #                 line += '█ '\n",
    "    #             else:\n",
    "    #                 line += '. '\n",
    "    #         print(line)\n",
    "    # else:\n",
    "    #     print(\"경로를 찾을 수 없습니다.\")\n"
   ]
  },
  {
   "cell_type": "code",
   "execution_count": 45,
   "id": "bd9976ff",
   "metadata": {},
   "outputs": [
    {
     "data": {
      "text/plain": [
       "<matplotlib.image.AxesImage at 0x7f05d5554df0>"
      ]
     },
     "execution_count": 45,
     "metadata": {},
     "output_type": "execute_result"
    },
    {
     "data": {
      "image/png": "[encoded data removed]",
      "text/plain": [
       "<Figure size 640x480 with 1 Axes>"
      ]
     },
     "metadata": {},
     "output_type": "display_data"
    }
   ],
   "source": [
    "plt.imshow(grid, cmap='gray')"
   ]
  }
 ],
 "metadata": {
  "kernelspec": {
   "display_name": "Python 3",
   "language": "python",
   "name": "python3"
  },
  "language_info": {
   "codemirror_mode": {
    "name": "ipython",
    "version": 3
   },
   "file_extension": ".py",
   "mimetype": "text/x-python",
   "name": "python",
   "nbconvert_exporter": "python",
   "pygments_lexer": "ipython3",
   "version": "3.8.10"
  }
 },
 "nbformat": 4,
 "nbformat_minor": 5
}
